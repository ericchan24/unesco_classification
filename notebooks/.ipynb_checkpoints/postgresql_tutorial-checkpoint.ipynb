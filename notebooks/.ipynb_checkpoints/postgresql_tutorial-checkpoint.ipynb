{
 "cells": [
  {
   "cell_type": "code",
   "execution_count": 1,
   "metadata": {
    "collapsed": true
   },
   "outputs": [],
   "source": [
    "from sqlalchemy import create_engine\n",
    "import pandas as pd\n",
    "import os"
   ]
  },
  {
   "cell_type": "code",
   "execution_count": null,
   "metadata": {
    "collapsed": true
   },
   "outputs": [],
   "source": [
    "engine_name = 'postgresql://ubuntu:@18.221.2.23:5432/tripadvisor'\n",
    "cnx = create_engine(engine_name)"
   ]
  },
  {
   "cell_type": "markdown",
   "metadata": {},
   "source": [
    "#### Create Engine  \n",
    "'postgresql' is the progam name  \n",
    "'ubuntu' is the user name in postgresql  \n",
    "'18.221.2.23:5432' is the AWS public IP  \n",
    "'tripadvisor' is the Database name in postgresql  "
   ]
  },
  {
   "cell_type": "markdown",
   "metadata": {},
   "source": [
    "#### Send a file from local machine to the cloud."
   ]
  },
  {
   "cell_type": "markdown",
   "metadata": {},
   "source": [
    "`scp cool_file.png myaws:~`"
   ]
  },
  {
   "cell_type": "markdown",
   "metadata": {},
   "source": [
    "#### To sign into Postgresql in the cloud:  \n",
    "`sudo -u postgres psql`"
   ]
  },
  {
   "cell_type": "markdown",
   "metadata": {},
   "source": [
    "#### Create a table:  \n",
    "`CREATE TABLE IF NOT EXISTS AllstarFull (  \n",
    "\tplayerID varchar(20) NOT NULL,  \n",
    "\tyearID int NOT NULL,  \n",
    "\tgameNum varchar(20) NOT NULL,  \n",
    "\tgameID varchar(12) DEFAULT NULL,  \n",
    "\tteamID text DEFAULT NULL,  \n",
    "\tlgID text DEFAULT NULL,  \n",
    "\tGP varchar(20) DEFAULT NULL,  \n",
    "\tstartingPos varchar(20) DEFAULT NULL,  \n",
    "\tPRIMARY KEY (playerID,yearID,gameNum)  \n",
    ");  `"
   ]
  },
  {
   "cell_type": "markdown",
   "metadata": {},
   "source": [
    "#### Copy data from csv into Postgresql table:  \n",
    "`COPY AllstarFull FROM '/home/username/baseballdata/AllstarFull.csv' DELIMITER ',' CSV HEADER; `\n"
   ]
  },
  {
   "cell_type": "markdown",
   "metadata": {},
   "source": [
    "#### To read data from a Postgresql Database (in Python):  \n",
    "'tripAdvisorFinal' is the table name  \n",
    "\n",
    "`tripadvisor_df = pd.read_sql_query('''SELECT * FROM tripAdvisorFinal''', cnx)`"
   ]
  },
  {
   "cell_type": "code",
   "execution_count": null,
   "metadata": {
    "collapsed": true
   },
   "outputs": [],
   "source": []
  }
 ],
 "metadata": {
  "kernelspec": {
   "display_name": "Python [conda root]",
   "language": "python",
   "name": "conda-root-py"
  },
  "language_info": {
   "codemirror_mode": {
    "name": "ipython",
    "version": 3
   },
   "file_extension": ".py",
   "mimetype": "text/x-python",
   "name": "python",
   "nbconvert_exporter": "python",
   "pygments_lexer": "ipython3",
   "version": "3.6.2"
  }
 },
 "nbformat": 4,
 "nbformat_minor": 2
}
